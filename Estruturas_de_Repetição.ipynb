{
 "cells": [
  {
   "cell_type": "code",
   "execution_count": 17,
   "id": "f459a339-7d39-4ac0-b0a5-ffcae1852afe",
   "metadata": {},
   "outputs": [],
   "source": [
    "### Neste Capitulo vamos compreender estrutura de repetição ###"
   ]
  },
  {
   "cell_type": "code",
   "execution_count": 18,
   "id": "b83e0f17-44b2-468c-9d0d-e51c2df97c38",
   "metadata": {},
   "outputs": [],
   "source": [
    "### Na primeira parte vamos calcular a média de um aluno ###"
   ]
  },
  {
   "cell_type": "code",
   "execution_count": 20,
   "id": "5f92fb60-c65a-492c-86ba-ab9ef87cd8be",
   "metadata": {},
   "outputs": [
    {
     "name": "stdin",
     "output_type": "stream",
     "text": [
      "Digite a primeira nota: 5\n",
      "Digite a segunda nota: 5\n"
     ]
    },
    {
     "name": "stdout",
     "output_type": "stream",
     "text": [
      "Média:5.0\n"
     ]
    }
   ],
   "source": [
    "nota_1 = float(input('Digite a primeira nota:'))\n",
    "nota_2 = float(input('Digite a segunda nota:'))\n",
    "print(f'Média:{(nota_1 + nota_2)/2}')"
   ]
  },
  {
   "cell_type": "code",
   "execution_count": 21,
   "id": "6fa2b42d-0161-4b53-92f8-f92e961ec9d4",
   "metadata": {},
   "outputs": [],
   "source": [
    "### Agora inagina uma situação na qual iremos carlcular a média de 3 alunos ###"
   ]
  },
  {
   "cell_type": "code",
   "execution_count": 22,
   "id": "c3b2ee8c-557c-4153-ab57-f36ae2351317",
   "metadata": {},
   "outputs": [
    {
     "name": "stdin",
     "output_type": "stream",
     "text": [
      "Digite a primeira nota: 5\n",
      "Digite a segunda nota: 5\n"
     ]
    },
    {
     "name": "stdout",
     "output_type": "stream",
     "text": [
      "Média:5.0\n"
     ]
    },
    {
     "name": "stdin",
     "output_type": "stream",
     "text": [
      "Digite a primeira nota: 5\n",
      "Digite a segunda nota: 5\n"
     ]
    },
    {
     "name": "stdout",
     "output_type": "stream",
     "text": [
      "Média:5.0\n"
     ]
    },
    {
     "name": "stdin",
     "output_type": "stream",
     "text": [
      "Digite a primeira nota: 5\n",
      "Digite a segunda nota: 5\n"
     ]
    },
    {
     "name": "stdout",
     "output_type": "stream",
     "text": [
      "Média:5.0\n"
     ]
    }
   ],
   "source": [
    "### 1° aluno ###\n",
    "nota_1 = float(input('Digite a primeira nota:'))\n",
    "nota_2 = float(input('Digite a segunda nota:'))\n",
    "print(f'Média:{(nota_1 + nota_2)/2}')\n",
    "\n",
    "### 2° aluno ###\n",
    "nota_1 = float(input('Digite a primeira nota:'))\n",
    "nota_2 = float(input('Digite a segunda nota:'))\n",
    "print(f'Média:{(nota_1 + nota_2)/2}')\n",
    "\n",
    "### 3° aluno ###\n",
    "nota_1 = float(input('Digite a primeira nota:'))\n",
    "nota_2 = float(input('Digite a segunda nota:'))\n",
    "print(f'Média:{(nota_1 + nota_2)/2}')"
   ]
  },
  {
   "cell_type": "code",
   "execution_count": 23,
   "id": "8a7e2100-6e09-45db-8fbc-c25ac45beaaf",
   "metadata": {},
   "outputs": [],
   "source": [
    "### Agora imagine uma situação que precisaria calcular a  média de 100 alunos, porém seria cansativo de trabalhoso repetir essa estrutura 100 vezes ###\n",
    "### Para isso iremos usar o laço de repetição de daremos condição para essa estrutura ###"
   ]
  },
  {
   "cell_type": "code",
   "execution_count": 24,
   "id": "56644055-c21d-434b-bdd7-91aab9f43bf6",
   "metadata": {},
   "outputs": [],
   "source": [
    "### Por enquanto iremos criar uma estrutura de repetição simples ###\n",
    "### Vamos construir um exemplo de contador de 1 a 10 ###"
   ]
  },
  {
   "cell_type": "code",
   "execution_count": 28,
   "id": "116b0115-0ca7-4e87-bc46-f50b284bcf27",
   "metadata": {},
   "outputs": [
    {
     "name": "stdout",
     "output_type": "stream",
     "text": [
      "1\n",
      "2\n",
      "3\n",
      "4\n",
      "5\n",
      "6\n",
      "7\n",
      "8\n",
      "9\n",
      "10\n"
     ]
    }
   ],
   "source": [
    "contador = 1\n",
    "while contador <= 10:\n",
    "    print(contador)\n",
    "    contador += 1"
   ]
  },
  {
   "cell_type": "code",
   "execution_count": 29,
   "id": "6c7c1acf-dc76-4687-adb0-4009dc04fddd",
   "metadata": {},
   "outputs": [],
   "source": [
    "### Agora iremos usar a estrutura de repetição while para calcular a média de um número especifico de alunos  ###"
   ]
  },
  {
   "cell_type": "code",
   "execution_count": 4,
   "id": "d705bb27-0a5a-4139-96c8-bdd8a2d0048f",
   "metadata": {},
   "outputs": [
    {
     "name": "stdin",
     "output_type": "stream",
     "text": [
      "Digite a primeira nota: 8\n",
      "Digite a segunda nota: 7\n"
     ]
    },
    {
     "name": "stdout",
     "output_type": "stream",
     "text": [
      "Média:7.5\n"
     ]
    },
    {
     "name": "stdin",
     "output_type": "stream",
     "text": [
      "Digite a primeira nota: 8\n",
      "Digite a segunda nota: 7\n"
     ]
    },
    {
     "name": "stdout",
     "output_type": "stream",
     "text": [
      "Média:7.5\n"
     ]
    },
    {
     "name": "stdin",
     "output_type": "stream",
     "text": [
      "Digite a primeira nota: 8\n",
      "Digite a segunda nota: 5\n"
     ]
    },
    {
     "name": "stdout",
     "output_type": "stream",
     "text": [
      "Média:6.5\n"
     ]
    }
   ],
   "source": [
    "contador = 1\n",
    "while contador <= 3:\n",
    "    nota_1 = float(input('Digite a primeira nota:'))\n",
    "    nota_2 = float(input('Digite a segunda nota:'))\n",
    "    print(f'Média:{(nota_1 + nota_2)/2}')\n",
    "    contador += 1"
   ]
  },
  {
   "cell_type": "code",
   "execution_count": 5,
   "id": "601ccd63-bc5b-42bc-9bcf-2b61c185519d",
   "metadata": {},
   "outputs": [],
   "source": [
    "### Agora iremos usar a estrutura de repetição com for e range para demonstração ###"
   ]
  },
  {
   "cell_type": "code",
   "execution_count": 6,
   "id": "40f64526-f3fc-4977-9281-929a70eb6efc",
   "metadata": {},
   "outputs": [
    {
     "name": "stdout",
     "output_type": "stream",
     "text": [
      "1\n",
      "2\n",
      "3\n",
      "4\n",
      "5\n",
      "6\n",
      "7\n",
      "8\n",
      "9\n",
      "10\n"
     ]
    }
   ],
   "source": [
    "for contador in range(1,11):\n",
    "    print(contador)"
   ]
  },
  {
   "cell_type": "code",
   "execution_count": 7,
   "id": "a673d812-3073-4841-a106-adedcf4974a7",
   "metadata": {},
   "outputs": [],
   "source": [
    "### Agora iremos usar a estrutura de repetição com for e range para calcular média da nota ###"
   ]
  },
  {
   "cell_type": "code",
   "execution_count": 9,
   "id": "7e52f439-9ccf-4039-b936-4ac637665f48",
   "metadata": {},
   "outputs": [
    {
     "name": "stdin",
     "output_type": "stream",
     "text": [
      "Digite a 1° nota: 8\n",
      "Digite a 2° nota: 8\n"
     ]
    },
    {
     "name": "stdout",
     "output_type": "stream",
     "text": [
      "Média: 8.0\n"
     ]
    },
    {
     "name": "stdin",
     "output_type": "stream",
     "text": [
      "Digite a 1° nota: 8\n",
      "Digite a 2° nota: 7\n"
     ]
    },
    {
     "name": "stdout",
     "output_type": "stream",
     "text": [
      "Média: 7.5\n"
     ]
    },
    {
     "name": "stdin",
     "output_type": "stream",
     "text": [
      "Digite a 1° nota: 5\n",
      "Digite a 2° nota: 5\n"
     ]
    },
    {
     "name": "stdout",
     "output_type": "stream",
     "text": [
      "Média: 5.0\n"
     ]
    }
   ],
   "source": [
    "for contador in range(1,4):\n",
    "    nota_1 = float(input('Digite a 1° nota:'))\n",
    "    nota_2 = float(input('Digite a 2° nota:'))\n",
    "    print(f'Média: {(nota_1+nota_2)/2}')\n",
    "    \n"
   ]
  },
  {
   "cell_type": "code",
   "execution_count": null,
   "id": "26e14a67-3181-46a1-b444-ac23c23db9cd",
   "metadata": {},
   "outputs": [],
   "source": []
  }
 ],
 "metadata": {
  "kernelspec": {
   "display_name": "Python 3 (ipykernel)",
   "language": "python",
   "name": "python3"
  },
  "language_info": {
   "codemirror_mode": {
    "name": "ipython",
    "version": 3
   },
   "file_extension": ".py",
   "mimetype": "text/x-python",
   "name": "python",
   "nbconvert_exporter": "python",
   "pygments_lexer": "ipython3",
   "version": "3.12.4"
  }
 },
 "nbformat": 4,
 "nbformat_minor": 5
}
