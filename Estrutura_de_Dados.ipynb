{
 "cells": [
  {
   "cell_type": "code",
   "execution_count": 2,
   "id": "4263dd08-1696-4317-9b79-1ee0eb8e4538",
   "metadata": {},
   "outputs": [],
   "source": [
    "### Agora iremos ver como funciona a Estrutura de Dados ###"
   ]
  },
  {
   "cell_type": "code",
   "execution_count": 3,
   "id": "573ae843-f310-4002-bbac-2770b27b25f3",
   "metadata": {},
   "outputs": [
    {
     "data": {
      "text/plain": [
       "['Fabricio Daniel', 9.5, 9.0, 8.0, True]"
      ]
     },
     "execution_count": 3,
     "metadata": {},
     "output_type": "execute_result"
    }
   ],
   "source": [
    "### Nesta parte iremos criar uma lista ###\n",
    "\n",
    "lista = ['Fabricio Daniel',9.5,9.0,8.0,True]\n",
    "lista"
   ]
  },
  {
   "cell_type": "code",
   "execution_count": 4,
   "id": "5d51350d-fc83-4ac0-b469-1f9585c79ee1",
   "metadata": {},
   "outputs": [
    {
     "data": {
      "text/plain": [
       "9.5"
      ]
     },
     "execution_count": 4,
     "metadata": {},
     "output_type": "execute_result"
    }
   ],
   "source": [
    "### É possível pesquisar um elemento específico da lisa veja o exemplo ###\n",
    "### lista = ['Fabricio Daniel',9.5,9.0,8.0,True] ###\n",
    "###                 [0]       ,[1],[2],[3],[5]   ###\n",
    "### Pois temos 5 elementos variando de 0 a 4     ###\n",
    "lista[1]"
   ]
  },
  {
   "cell_type": "code",
   "execution_count": 8,
   "id": "37b2d8eb-428c-45e5-a4e6-feaa05766141",
   "metadata": {},
   "outputs": [
    {
     "name": "stdout",
     "output_type": "stream",
     "text": [
      "Fabricio Daniel\n",
      "9.5\n",
      "9.0\n",
      "8.0\n",
      "True\n"
     ]
    }
   ],
   "source": [
    "### Agora iremos usar o for para buscar os elementos da lista ###\n",
    "\n",
    "for elemento in lista:\n",
    "    print(elemento)"
   ]
  },
  {
   "cell_type": "code",
   "execution_count": 9,
   "id": "9601e916-b333-415f-925d-741c78bbfe2a",
   "metadata": {},
   "outputs": [
    {
     "data": {
      "text/plain": [
       "['Fabricio Daniel', 9.5, 9.0, 10.0, True]"
      ]
     },
     "execution_count": 9,
     "metadata": {},
     "output_type": "execute_result"
    }
   ],
   "source": [
    "### A nota do Fabricio precisa ser ajustada pois ganhou 2 pontos em sua ultima nota ###\n",
    "### Será necessário fazer uma troca no índice 3 de 8.0 para 10.0 ###\n",
    "lista[3] = 10.0\n",
    "lista"
   ]
  },
  {
   "cell_type": "code",
   "execution_count": 10,
   "id": "aa43c018-959a-4da7-94d0-d01c44010796",
   "metadata": {},
   "outputs": [
    {
     "data": {
      "text/plain": [
       "9.5"
      ]
     },
     "execution_count": 10,
     "metadata": {},
     "output_type": "execute_result"
    }
   ],
   "source": [
    "### Conseguimos calcular a média do aluno a partir dos dados que temos ###\n",
    "\n",
    "media = (lista[1]+lista[2]+lista[3])/3\n",
    "media"
   ]
  },
  {
   "cell_type": "code",
   "execution_count": 11,
   "id": "de426cca-8d6f-48ba-b50b-e79d36ff9f7f",
   "metadata": {},
   "outputs": [
    {
     "data": {
      "text/plain": [
       "5"
      ]
     },
     "execution_count": 11,
     "metadata": {},
     "output_type": "execute_result"
    }
   ],
   "source": [
    "### Agora iremos identificar a quantidade de elementos dentro de uma lista com len ###\n",
    "\n",
    "len(lista)\n"
   ]
  },
  {
   "cell_type": "code",
   "execution_count": 13,
   "id": "63df6fa9-ef7a-400e-94e4-d4da7462af9f",
   "metadata": {},
   "outputs": [
    {
     "data": {
      "text/plain": [
       "[9.5, 9.0, 10.0]"
      ]
     },
     "execution_count": 13,
     "metadata": {},
     "output_type": "execute_result"
    }
   ],
   "source": [
    "### Agora iremos fazer a partição para descobrir os índices específicos como por exemplo as notas ###\n",
    "\n",
    "lista[1:4]"
   ]
  },
  {
   "cell_type": "code",
   "execution_count": 14,
   "id": "cc1bd42e-52cd-4b5a-8a17-2cc068323f88",
   "metadata": {},
   "outputs": [
    {
     "data": {
      "text/plain": [
       "['Fabricio Daniel', 9.5, 9.0, 10.0, True, 9.5]"
      ]
     },
     "execution_count": 14,
     "metadata": {},
     "output_type": "execute_result"
    }
   ],
   "source": [
    "### Como adicionar um elemento na lista usanso append ###\n",
    "\n",
    "lista.append(media)\n",
    "lista"
   ]
  },
  {
   "cell_type": "code",
   "execution_count": 16,
   "id": "f46a6d00-07f1-4e08-b5bb-342224a5758e",
   "metadata": {},
   "outputs": [
    {
     "data": {
      "text/plain": [
       "['Fabricio Daniel', 9.5, 9.0, 10.0, True, 9.5, 10.0, 8.0, 9.0]"
      ]
     },
     "execution_count": 16,
     "metadata": {},
     "output_type": "execute_result"
    }
   ],
   "source": [
    "### Como adicionar vários elementos usando extend ###\n",
    "\n",
    "lista.extend([10.0,8.0,9.0])\n",
    "lista"
   ]
  },
  {
   "cell_type": "code",
   "execution_count": 17,
   "id": "dfe0825a-2ab5-41c3-ad61-67c9cd467152",
   "metadata": {},
   "outputs": [
    {
     "data": {
      "text/plain": [
       "['Fabricio Daniel', 9.5, 9.0, 10.0, True, 9.5, 10.0, 8.0, 9.0, [0]]"
      ]
     },
     "execution_count": 17,
     "metadata": {},
     "output_type": "execute_result"
    }
   ],
   "source": [
    "### Vamos acrescentar mais um elemento na lista para remover ###\n",
    "lista.append([0])\n",
    "lista"
   ]
  },
  {
   "cell_type": "code",
   "execution_count": 18,
   "id": "d0e95d7c-c836-4aa1-b01b-ded12cc97750",
   "metadata": {},
   "outputs": [
    {
     "data": {
      "text/plain": [
       "['Fabricio Daniel', 9.5, 9.0, 10.0, True, 9.5, 10.0, 8.0, 9.0]"
      ]
     },
     "execution_count": 18,
     "metadata": {},
     "output_type": "execute_result"
    }
   ],
   "source": [
    "### Agora iremos remover o elemento usando remove ###\n",
    "lista.remove([0])\n",
    "lista"
   ]
  },
  {
   "cell_type": "code",
   "execution_count": 19,
   "id": "b17f62bc-68eb-43c5-bea0-989c9b86f35f",
   "metadata": {},
   "outputs": [
    {
     "data": {
      "text/plain": [
       "{'chave_1': 1, 'chave_2': 2}"
      ]
     },
     "execution_count": 19,
     "metadata": {},
     "output_type": "execute_result"
    }
   ],
   "source": [
    "### Agora iremos criar uma lista organizada com dicionário e chaves ###\n",
    "\n",
    "dicionario = {'chave_1':1,\n",
    "              'chave_2':2}\n",
    "dicionario"
   ]
  },
  {
   "cell_type": "code",
   "execution_count": 29,
   "id": "72c8dfca-ba45-4672-943d-0e3d60fb25dc",
   "metadata": {},
   "outputs": [],
   "source": [
    "### Agora vamos criar um dicionário chamado cadastro com os dados de um aluno ###\n",
    "\n",
    "cadastro = {'matricula':2000168933,\n",
    "            'dia_cadastro':25,\n",
    "            'mes_cadastro':10,\n",
    "            'turma':'2E'\n",
    "            }"
   ]
  },
  {
   "cell_type": "code",
   "execution_count": 30,
   "id": "ea5c2d12-c99a-4439-85fc-7df11139e2d3",
   "metadata": {},
   "outputs": [
    {
     "data": {
      "text/plain": [
       "2000168933"
      ]
     },
     "execution_count": 30,
     "metadata": {},
     "output_type": "execute_result"
    }
   ],
   "source": [
    "### Agora vamos pesquisar a lista especificando elemento ###\n",
    "\n",
    "cadastro['matricula']"
   ]
  },
  {
   "cell_type": "code",
   "execution_count": 31,
   "id": "4cdd5e2d-c8f3-47e8-882d-8bd131f4fc0f",
   "metadata": {},
   "outputs": [
    {
     "data": {
      "text/plain": [
       "{'matricula': 2000168933,\n",
       " 'dia_cadastro': 25,\n",
       " 'mes_cadastro': 10,\n",
       " 'turma': '2G'}"
      ]
     },
     "execution_count": 31,
     "metadata": {},
     "output_type": "execute_result"
    }
   ],
   "source": [
    "### Agora vamos alterar o elemento ###\n",
    "cadastro['turma'] = '2G'\n",
    "cadastro"
   ]
  },
  {
   "cell_type": "code",
   "execution_count": 32,
   "id": "d340877b-5f49-425c-a4ed-46b49a14e3bf",
   "metadata": {},
   "outputs": [
    {
     "data": {
      "text/plain": [
       "{'matricula': 2000168933,\n",
       " 'dia_cadastro': 25,\n",
       " 'mes_cadastro': 10,\n",
       " 'turma': '2G',\n",
       " 'modalidade': 'EAD'}"
      ]
     },
     "execution_count": 32,
     "metadata": {},
     "output_type": "execute_result"
    }
   ],
   "source": [
    "### Agora vamos acrescentar mais um elemento para a lista ###\n",
    "\n",
    "cadastro['modalidade'] = 'EAD'\n",
    "cadastro\n"
   ]
  },
  {
   "cell_type": "code",
   "execution_count": 34,
   "id": "16621764-3aec-48f8-ba27-831df1238350",
   "metadata": {},
   "outputs": [
    {
     "data": {
      "text/plain": [
       "'2G'"
      ]
     },
     "execution_count": 34,
     "metadata": {},
     "output_type": "execute_result"
    }
   ],
   "source": [
    "### Agora iremos remover um elemento usando POP ###\n",
    "\n",
    "cadastro.pop('turma')"
   ]
  },
  {
   "cell_type": "code",
   "execution_count": 35,
   "id": "c8523fd7-2cad-44be-a7cc-c4133a17f79c",
   "metadata": {},
   "outputs": [
    {
     "data": {
      "text/plain": [
       "{'matricula': 2000168933,\n",
       " 'dia_cadastro': 25,\n",
       " 'mes_cadastro': 10,\n",
       " 'modalidade': 'EAD'}"
      ]
     },
     "execution_count": 35,
     "metadata": {},
     "output_type": "execute_result"
    }
   ],
   "source": [
    "cadastro"
   ]
  },
  {
   "cell_type": "code",
   "execution_count": 36,
   "id": "7c8936a7-abfe-4bf3-9f0d-55dda8406716",
   "metadata": {},
   "outputs": [
    {
     "data": {
      "text/plain": [
       "dict_items([('matricula', 2000168933), ('dia_cadastro', 25), ('mes_cadastro', 10), ('modalidade', 'EAD')])"
      ]
     },
     "execution_count": 36,
     "metadata": {},
     "output_type": "execute_result"
    }
   ],
   "source": [
    "### Retornando uma lista de pares chave-valor do dicionário usando items ###\n",
    "\n",
    "cadastro.items()"
   ]
  },
  {
   "cell_type": "code",
   "execution_count": 37,
   "id": "0b8858bd-304b-49c5-ab00-c31e864f3cb3",
   "metadata": {},
   "outputs": [
    {
     "data": {
      "text/plain": [
       "dict_keys(['matricula', 'dia_cadastro', 'mes_cadastro', 'modalidade'])"
      ]
     },
     "execution_count": 37,
     "metadata": {},
     "output_type": "execute_result"
    }
   ],
   "source": [
    "### Retornando as chaves da lista de dicionário usando keys ###\n",
    "cadastro.keys()"
   ]
  },
  {
   "cell_type": "code",
   "execution_count": 39,
   "id": "7caf9e88-8add-4670-be49-4d9ccf26e872",
   "metadata": {},
   "outputs": [
    {
     "data": {
      "text/plain": [
       "dict_values([2000168933, 25, 10, 'EAD'])"
      ]
     },
     "execution_count": 39,
     "metadata": {},
     "output_type": "execute_result"
    }
   ],
   "source": [
    "### Retornando uma lista de valores do dicionário usando values ###\n",
    "\n",
    "cadastro.values()"
   ]
  },
  {
   "cell_type": "code",
   "execution_count": 40,
   "id": "243025d6-48aa-4bf9-96d9-6b5f43111a69",
   "metadata": {},
   "outputs": [
    {
     "name": "stdout",
     "output_type": "stream",
     "text": [
      "2000168933\n",
      "25\n",
      "10\n",
      "EAD\n"
     ]
    }
   ],
   "source": [
    "### Leitura de valores com for ###\n",
    "\n",
    "for chaves in cadastro.keys():\n",
    "    print(cadastro[chaves])"
   ]
  },
  {
   "cell_type": "code",
   "execution_count": 41,
   "id": "53e72de3-8d46-431f-8396-d92c450c67d7",
   "metadata": {},
   "outputs": [
    {
     "name": "stdout",
     "output_type": "stream",
     "text": [
      "2000168933\n",
      "25\n",
      "10\n",
      "EAD\n"
     ]
    }
   ],
   "source": [
    "for valores in cadastro.values():\n",
    "    print(valores)"
   ]
  },
  {
   "cell_type": "code",
   "execution_count": 42,
   "id": "75c7d529-f4f1-473e-b97d-050484ff57e6",
   "metadata": {},
   "outputs": [
    {
     "name": "stdout",
     "output_type": "stream",
     "text": [
      "matricula 2000168933\n",
      "dia_cadastro 25\n",
      "mes_cadastro 10\n",
      "modalidade EAD\n"
     ]
    }
   ],
   "source": [
    "for chaves, valores in cadastro.items():\n",
    "    print(chaves, valores)"
   ]
  },
  {
   "cell_type": "code",
   "execution_count": null,
   "id": "5def14c1-7264-4d92-a789-0584f178b7b4",
   "metadata": {},
   "outputs": [],
   "source": []
  }
 ],
 "metadata": {
  "kernelspec": {
   "display_name": "Python 3 (ipykernel)",
   "language": "python",
   "name": "python3"
  },
  "language_info": {
   "codemirror_mode": {
    "name": "ipython",
    "version": 3
   },
   "file_extension": ".py",
   "mimetype": "text/x-python",
   "name": "python",
   "nbconvert_exporter": "python",
   "pygments_lexer": "ipython3",
   "version": "3.12.4"
  }
 },
 "nbformat": 4,
 "nbformat_minor": 5
}
