{
 "cells": [
  {
   "cell_type": "code",
   "execution_count": null,
   "id": "e215cb9f-a6bc-431c-959b-ee7152d121a9",
   "metadata": {},
   "outputs": [],
   "source": [
    "Temos uma tabela de informação de empregos quanto ao cargo, quantidade de pessoas empregadas e o salário correspondente:"
   ]
  },
  {
   "cell_type": "code",
   "execution_count": null,
   "id": "b61bad93-57fd-4aa2-b12d-c77faf1d1472",
   "metadata": {},
   "outputs": [],
   "source": [
    "[  Cargo  ,Quantidade,Salário]\n",
    "[Segurança,    5     ,  3000 ]\n",
    "[ Docente ,   16     ,  6000 ]\n",
    "[Diretoria,    1     , 12500 ]    "
   ]
  },
  {
   "cell_type": "code",
   "execution_count": null,
   "id": "376c7cb1-f02f-4ffc-a5c8-23f99a10a1fe",
   "metadata": {},
   "outputs": [],
   "source": [
    "Precisamos trabalhar com esses dados fornecendo:\n",
    "- A quantidade total de empregados.\n",
    "- A diferença entre o salário mais baixo e mais alto.\n",
    "- A média ponderada da faixa salarial da escola."
   ]
  },
  {
   "cell_type": "code",
   "execution_count": 2,
   "id": "22cd00e1-1aac-40a5-b3c4-bc2b5204dd24",
   "metadata": {},
   "outputs": [],
   "source": [
    "q_seguranca = 5\n",
    "s_seguranca = 3000\n",
    "\n",
    "q_docente = 16\n",
    "s_docente = 6000\n",
    "\n",
    "q_diretoria = 1\n",
    "s_diretoria = 12500"
   ]
  },
  {
   "cell_type": "code",
   "execution_count": 3,
   "id": "fc2a3244-ec48-4cd4-82d0-6d25ae8bbb85",
   "metadata": {},
   "outputs": [
    {
     "data": {
      "text/plain": [
       "22"
      ]
     },
     "execution_count": 3,
     "metadata": {},
     "output_type": "execute_result"
    }
   ],
   "source": [
    "total_empregados = q_seguranca + q_docente + q_diretoria\n",
    "total_empregados"
   ]
  },
  {
   "cell_type": "code",
   "execution_count": 5,
   "id": "87b3f48e-6f8c-4909-9950-2fa5b8e003a2",
   "metadata": {},
   "outputs": [
    {
     "data": {
      "text/plain": [
       "9500"
      ]
     },
     "execution_count": 5,
     "metadata": {},
     "output_type": "execute_result"
    }
   ],
   "source": [
    "diferenca_salario = s_diretoria - s_seguranca\n",
    "diferenca_salario"
   ]
  },
  {
   "cell_type": "code",
   "execution_count": 6,
   "id": "95eb479a-c7f8-4382-a578-f11f6a02ac22",
   "metadata": {},
   "outputs": [
    {
     "data": {
      "text/plain": [
       "5613.636363636364"
      ]
     },
     "execution_count": 6,
     "metadata": {},
     "output_type": "execute_result"
    }
   ],
   "source": [
    "media = (q_seguranca * s_seguranca + q_docente * s_docente + q_diretoria * s_diretoria) / (total_empregados)\n",
    "media"
   ]
  }
 ],
 "metadata": {
  "kernelspec": {
   "display_name": "Python 3 (ipykernel)",
   "language": "python",
   "name": "python3"
  },
  "language_info": {
   "codemirror_mode": {
    "name": "ipython",
    "version": 3
   },
   "file_extension": ".py",
   "mimetype": "text/x-python",
   "name": "python",
   "nbconvert_exporter": "python",
   "pygments_lexer": "ipython3",
   "version": "3.12.4"
  }
 },
 "nbformat": 4,
 "nbformat_minor": 5
}
