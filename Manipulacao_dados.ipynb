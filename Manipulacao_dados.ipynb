{
 "cells": [
  {
   "cell_type": "code",
   "execution_count": 13,
   "id": "3552f863-4c00-43c0-b8dd-ad3c1376f95a",
   "metadata": {},
   "outputs": [
    {
     "name": "stdout",
     "output_type": "stream",
     "text": [
      "<class 'str'> <class 'str'>\n"
     ]
    }
   ],
   "source": [
    "# Manipulação de dados"
   ]
  },
  {
   "cell_type": "code",
   "execution_count": 14,
   "id": "afd72384-1ea1-4053-a1cf-7a62c88cad37",
   "metadata": {},
   "outputs": [
    {
     "data": {
      "text/plain": [
       "'  Geovana Alessandra dias Sanyos  '"
      ]
     },
     "execution_count": 14,
     "metadata": {},
     "output_type": "execute_result"
    }
   ],
   "source": [
    "# Carregando uma string com um erro de digitação e com espaços para fazer a manipulação dos dados\n",
    "texto = '  Geovana Alessandra dias Sanyos  '\n",
    "texto"
   ]
  },
  {
   "cell_type": "code",
   "execution_count": 15,
   "id": "bea7900e-a264-4099-9aa1-3a47240e035b",
   "metadata": {},
   "outputs": [
    {
     "data": {
      "text/plain": [
       "'  GEOVANA ALESSANDRA DIAS SANYOS  '"
      ]
     },
     "execution_count": 15,
     "metadata": {},
     "output_type": "execute_result"
    }
   ],
   "source": [
    "# Convertendo a string para letras maiusculas\n",
    "texto.upper()"
   ]
  },
  {
   "cell_type": "code",
   "execution_count": 16,
   "id": "69646e8d-c983-4caf-b68e-241288c3aa7c",
   "metadata": {},
   "outputs": [
    {
     "data": {
      "text/plain": [
       "'  geovana alessandra dias sanyos  '"
      ]
     },
     "execution_count": 16,
     "metadata": {},
     "output_type": "execute_result"
    }
   ],
   "source": [
    "# Convertento a string para letras minusculas\n",
    "texto.lower"
   ]
  },
  {
   "cell_type": "code",
   "execution_count": 17,
   "id": "5110a2fe-8ab4-452c-8f27-17490d9ec191",
   "metadata": {},
   "outputs": [
    {
     "data": {
      "text/plain": [
       "'Geovana Alessandra dias Sanyos'"
      ]
     },
     "execution_count": 17,
     "metadata": {},
     "output_type": "execute_result"
    }
   ],
   "source": [
    "# Eliminando espaços\n",
    "texto.strip()"
   ]
  },
  {
   "cell_type": "code",
   "execution_count": 20,
   "id": "8da9b850-c829-4d45-a970-8ee886e6aa99",
   "metadata": {},
   "outputs": [
    {
     "data": {
      "text/plain": [
       "'GEOVANA ALESSANDRA DIAS SANTOS'"
      ]
     },
     "execution_count": 20,
     "metadata": {},
     "output_type": "execute_result"
    }
   ],
   "source": [
    "# Substituindo a letra informada incorretamente pela letra correta do nome \n",
    "texto.replace('y','t')"
   ]
  },
  {
   "cell_type": "code",
   "execution_count": 18,
   "id": "f137ef9b-ffc4-4759-acba-17489dad812f",
   "metadata": {},
   "outputs": [
    {
     "data": {
      "text/plain": [
       "'GEOVANA ALESSANDRA DIAS SANTOS'"
      ]
     },
     "execution_count": 18,
     "metadata": {},
     "output_type": "execute_result"
    }
   ],
   "source": [
    "# Declarando uma váriavel com o mesmo nome, porém dentro essa variável usamos todas as funções anteriores juntamente com a mesma variável\n",
    "# O resultado final será o nome \n",
    "texto = texto.strip().replace('y','t').upper()\n",
    "texto"
   ]
  },
  {
   "cell_type": "code",
   "execution_count": 19,
   "id": "bd388c23-1a2e-4dff-8b1d-c92c11e19ac3",
   "metadata": {},
   "outputs": [
    {
     "data": {
      "text/plain": [
       "'GEOVANA ALESSANDRA DIAS SANTOS'"
      ]
     },
     "execution_count": 19,
     "metadata": {},
     "output_type": "execute_result"
    }
   ],
   "source": [
    "texto = texto.strip().replace('y','t').upper()\n",
    "texto"
   ]
  }
 ],
 "metadata": {
  "kernelspec": {
   "display_name": "Python 3 (ipykernel)",
   "language": "python",
   "name": "python3"
  },
  "language_info": {
   "codemirror_mode": {
    "name": "ipython",
    "version": 3
   },
   "file_extension": ".py",
   "mimetype": "text/x-python",
   "name": "python",
   "nbconvert_exporter": "python",
   "pygments_lexer": "ipython3",
   "version": "3.12.4"
  }
 },
 "nbformat": 4,
 "nbformat_minor": 5
}
