{
 "cells": [
  {
   "cell_type": "code",
   "execution_count": null,
   "id": "dec94dd9-96c9-41fc-8e2d-cb858974eae3",
   "metadata": {},
   "outputs": [],
   "source": [
    "# Estruturas condicionais"
   ]
  },
  {
   "cell_type": "code",
   "execution_count": 15,
   "id": "2f293e34-e45c-42ce-995f-6148327c9148",
   "metadata": {},
   "outputs": [
    {
     "name": "stdin",
     "output_type": "stream",
     "text": [
      "Digite a idade da Maria:  5\n",
      "Digite a idade da Beatriz:  5\n"
     ]
    },
    {
     "name": "stdout",
     "output_type": "stream",
     "text": [
      "As duas tem a mesma idade\n"
     ]
    }
   ],
   "source": [
    "## Comparando as idades condicionais com if ##\n",
    "idade_maria = int(input('Digite a idade da Maria: '))\n",
    "idade_beatriz = int(input('Digite a idade da Beatriz: '))\n",
    "\n",
    "if idade_maria > idade_beatriz:\n",
    "  print('Maria é mais velha que Beatriz.')\n",
    "if idade_maria < idade_beatriz:\n",
    "  print('Maria é mais nova que Beatriz.')\n",
    "if idade_maria == idade_beatriz:\n",
    "  print('As duas tem a mesma idade')"
   ]
  },
  {
   "cell_type": "code",
   "execution_count": 14,
   "id": "b6e77718-1847-4327-9eb9-5ac450892728",
   "metadata": {},
   "outputs": [
    {
     "name": "stdin",
     "output_type": "stream",
     "text": [
      "Digite a quantidade de empregados da empresa 1:  5\n",
      "Digite a quantidade de empregados da empresa 2:  5\n"
     ]
    },
    {
     "name": "stdout",
     "output_type": "stream",
     "text": [
      "Empresa 1 tem uma quantidade de empregados maior que à empresa 2.\n",
      "Empresa 1 tem uma quantidade de empregados menor que à empresa 2.\n",
      "As empresas tem a mesma quantidade de funcionários\n"
     ]
    }
   ],
   "source": [
    "## Comparando idade de empregados por empresa condicionais com if ##\n",
    "empregados_empresa_1 = int(input('Digite a quantidade de empregados da empresa 1: '))\n",
    "empregados_empresa_2 = int(input('Digite a quantidade de empregados da empresa 2: '))\n",
    "\n",
    "if empregados_empresa_1 >= empregados_empresa_2:\n",
    "  print('Empresa 1 tem uma quantidade de empregados maior que à empresa 2.')\n",
    "if empregados_empresa_1 <= empregados_empresa_2:\n",
    "  print('Empresa 1 tem uma quantidade de empregados menor que à empresa 2.')\n",
    "if empregados_empresa_1 == empregados_empresa_2:\n",
    "  print('As empresas tem a mesma quantidade de funcionários')"
   ]
  },
  {
   "cell_type": "code",
   "execution_count": 17,
   "id": "3d86de19-4361-4dfb-89d1-233c0e28abf8",
   "metadata": {},
   "outputs": [
    {
     "name": "stdin",
     "output_type": "stream",
     "text": [
      "Digite o título do 1° livro:  a\n",
      "Digite o título do 2° livro:  A\n"
     ]
    },
    {
     "name": "stdout",
     "output_type": "stream",
     "text": [
      "Os livros têm titulos diferentes\n"
     ]
    }
   ],
   "source": [
    "## Comparando titulos dos livros condicionais com if ##\n",
    "livro_1 = input('Digite o título do 1° livro: ')\n",
    "livro_2 = input('Digite o título do 2° livro: ')\n",
    "\n",
    "if livro_1 == livro_2:\n",
    "  print('Os livros têm o mesmo título')\n",
    "if livro_1 != livro_2:\n",
    "  print('Os livros têm titulos diferentes')"
   ]
  },
  {
   "cell_type": "code",
   "execution_count": 28,
   "id": "a710763f-d226-4dc2-8ece-68c05896532b",
   "metadata": {},
   "outputs": [
    {
     "name": "stdin",
     "output_type": "stream",
     "text": [
      "Digite a média: 5\n"
     ]
    },
    {
     "name": "stdout",
     "output_type": "stream",
     "text": [
      "Recuperação\n"
     ]
    }
   ],
   "source": [
    "# Média condicionais com if ##\n",
    "media = float(input('Digite a média:'))\n",
    "\n",
    "if media >= 6.0:\n",
    "    print('Aprovado(a)')\n",
    "if 6.0 > media >= 4.0:\n",
    "    print('Recuperação')\n",
    "if media < 4.0:\n",
    "    print('Reprovado(a)')"
   ]
  },
  {
   "cell_type": "code",
   "execution_count": 31,
   "id": "be1d106e-233e-43ae-a9b9-8f764963f6fa",
   "metadata": {},
   "outputs": [
    {
     "name": "stdin",
     "output_type": "stream",
     "text": [
      "Digite a média: 5\n"
     ]
    },
    {
     "name": "stdout",
     "output_type": "stream",
     "text": [
      "Recuperação\n"
     ]
    }
   ],
   "source": [
    "## Média condicionais com Elif\n",
    "\n",
    "media = float(input('Digite a média:'))\n",
    "\n",
    "if media >=6.0:\n",
    "    print('Aprovado(a)')\n",
    "elif 6.0 > media >= 4.0:\n",
    "    print('Recuperação')\n",
    "else:\n",
    "    print('Reprovado')\n",
    "\n"
   ]
  },
  {
   "cell_type": "code",
   "execution_count": 34,
   "id": "0160dfd1-4e7a-4b1c-baf6-38ff2be3c93e",
   "metadata": {},
   "outputs": [],
   "source": [
    "## Operadores lógicos ##\n"
   ]
  },
  {
   "cell_type": "code",
   "execution_count": 35,
   "id": "2fc6be8e-9bb4-411a-b0dd-984775384089",
   "metadata": {},
   "outputs": [
    {
     "name": "stdout",
     "output_type": "stream",
     "text": [
      "Expressão falsa\n"
     ]
    }
   ],
   "source": [
    "## Operador And ##\n",
    "\n",
    "t1 = t2 = True\n",
    "f1 = f2 = False\n",
    "\n",
    "if t1 and f2:\n",
    "    print('Expressão verdadeira')\n",
    "else:\n",
    "    print('Expressão falsa')"
   ]
  },
  {
   "cell_type": "code",
   "execution_count": 36,
   "id": "59adfe00-3909-48fe-9b01-bbd78eba64e5",
   "metadata": {},
   "outputs": [
    {
     "name": "stdout",
     "output_type": "stream",
     "text": [
      "Expressão falsa\n"
     ]
    }
   ],
   "source": [
    "## Opderador Or ##\n",
    "\n",
    "if f1 or f2:\n",
    "    print('Expressão verdadeira')\n",
    "else:\n",
    "    print('Expressão falsa')"
   ]
  },
  {
   "cell_type": "code",
   "execution_count": 38,
   "id": "b407d708-8753-4e62-b94c-667bf4232ab7",
   "metadata": {},
   "outputs": [
    {
     "name": "stdout",
     "output_type": "stream",
     "text": [
      "Expressão Falsa\n"
     ]
    }
   ],
   "source": [
    "## Operador Not ##\n",
    "if not t1:\n",
    "    print('Expressão verdadeira')\n",
    "else:\n",
    "    print('Expressão Falsa')\n",
    "        "
   ]
  },
  {
   "cell_type": "code",
   "execution_count": 40,
   "id": "63e78518-c46f-45f5-b2d3-607c0afea999",
   "metadata": {},
   "outputs": [
    {
     "name": "stdout",
     "output_type": "stream",
     "text": [
      "Mariana Rodrigues está na lista\n"
     ]
    }
   ],
   "source": [
    "## Operador In ##\n",
    "\n",
    "# Situação:\n",
    "# Na escola foi passada uma lista com nomes de estudantes que foram aprovados por média no semestre,mas é preciso verificar\n",
    "# Se alguns nomes estão nessa lista para verificar se os dados estão corretos.\n",
    "\n",
    "lista = 'José da Silva, Maria Oliveira, Pedro Martins, Ana Souza, Carlos Rodrigues, Juliana Santos, Bruno Gomes, Beatriz Costa,Luísa Nascimento, Gabriel Souza, Mariana Rodrigues'\n",
    "\n",
    "nome_1 = 'Mariana Rodrigues'\n",
    "nome_2 = 'Marcelo Nogueira'\n",
    "\n",
    "if nome_1 in lista:\n",
    "    print(f'{nome_1} está na lista')\n",
    "else:\n",
    "    print(f'{nome_1} não está na lista')"
   ]
  },
  {
   "cell_type": "code",
   "execution_count": 41,
   "id": "5e478f48-e2a4-41a1-8d6e-a5351c62b52a",
   "metadata": {},
   "outputs": [
    {
     "name": "stdout",
     "output_type": "stream",
     "text": [
      "Marcelo Nogueira não está na lista\n"
     ]
    }
   ],
   "source": [
    "if nome_2 in lista:\n",
    "    print(f'{nome_2} está na lista')\n",
    "else:\n",
    "    print(f'{nome_2} não está na lista')"
   ]
  },
  {
   "cell_type": "code",
   "execution_count": null,
   "id": "f5eed20d-7c30-400b-ad48-c1b21bb07a05",
   "metadata": {},
   "outputs": [],
   "source": []
  }
 ],
 "metadata": {
  "kernelspec": {
   "display_name": "Python 3 (ipykernel)",
   "language": "python",
   "name": "python3"
  },
  "language_info": {
   "codemirror_mode": {
    "name": "ipython",
    "version": 3
   },
   "file_extension": ".py",
   "mimetype": "text/x-python",
   "name": "python",
   "nbconvert_exporter": "python",
   "pygments_lexer": "ipython3",
   "version": "3.12.4"
  }
 },
 "nbformat": 4,
 "nbformat_minor": 5
}
